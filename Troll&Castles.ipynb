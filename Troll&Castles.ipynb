{
 "cells": [
  {
   "cell_type": "code",
   "execution_count": 3,
   "metadata": {},
   "outputs": [],
   "source": [
    "from pulp import *"
   ]
  },
  {
   "cell_type": "code",
   "execution_count": 11,
   "metadata": {},
   "outputs": [],
   "source": [
    "def minMax(Tab):\n",
    "    Min = Tab[0][0]\n",
    "    Max = Tab[0][0]\n",
    "    for liste in Tab:\n",
    "        for elem in liste:\n",
    "            if elem >Max :\n",
    "                Max = elem\n",
    "            elif elem < Min:\n",
    "                Min = elem \n",
    "    return (Min,Max)\n",
    "\n",
    "def LinProg(Tab):\n",
    "\n",
    "    # Variables\n",
    "    variables = []\n",
    "    for i in range(len(Tab)):\n",
    "        variables.append(LpVariable(\"p\"+str(i), 0, 1))\n",
    "    weights = Tab\n",
    "\n",
    "    # Solving the problem from the vectors Variables and weights\n",
    "    prob = LpProblem(\"test1\", LpMaximize)\n",
    "\n",
    "    (Min,Max) = minMax(weights)\n",
    "    t = LpVariable(\"t\",Min,Max)\n",
    "    # Objective\n",
    "    prob += t\n",
    "\n",
    "    # Constraints\n",
    "    for column in range(len(weights)):\n",
    "        utility = 0\n",
    "        for row in range(len(weights[0])):\n",
    "            utility += variables[row]*weights[column][row]\n",
    "        prob += utility - t >= 0\n",
    "    # prob += -p1 - t >= 0\n",
    "    # prob += p1-p2 - t >= 0\n",
    "    probabilities = 0\n",
    "    for variable in variables:\n",
    "        probabilities += variable\n",
    "    prob += probabilities == 1\n",
    "\n",
    "    GLPK().solve(prob)\n",
    "\n",
    "    P = []\n",
    "    # Solution\n",
    "    for v in prob.variables():\n",
    "        #print(v.name, \"=\", v.varValue)\n",
    "        if v.name != \"t\":\n",
    "            P.append(v.varValue)\n",
    "\n",
    "    #print(\"objective=\", value(prob.objective))\n",
    "\n",
    "    return(P, value(prob.objective))"
   ]
  },
  {
   "cell_type": "code",
   "execution_count": 12,
   "metadata": {},
   "outputs": [],
   "source": [
    "def len1(x):\n",
    "    l = -1\n",
    "    for i in range(len(x)):\n",
    "        if x[i] == 1 and l > -1:\n",
    "            return -1\n",
    "    \n",
    "        elif x[i] == 1:\n",
    "            l = i\n",
    "            \n",
    "    return l"
   ]
  },
  {
   "cell_type": "code",
   "execution_count": 13,
   "metadata": {},
   "outputs": [],
   "source": [
    "def G(x,y,t):\n",
    "    \n",
    "    # First the initialization cases\n",
    "    if t == 0 and x == y:\n",
    "        return 1\n",
    "    elif x == 0: \n",
    "        if t < 0: \n",
    "            return 0\n",
    "        elif y == t:\n",
    "            return 1\n",
    "        elif y < t:\n",
    "            return 3\n",
    "        elif y > t:\n",
    "            return 0\n",
    "        else:\n",
    "            raise ValueError(\"Impossible case\")\n",
    "    elif y == 0: \n",
    "        if t > 0:\n",
    "            return 3\n",
    "        elif (x+t) == 0:\n",
    "            return 1\n",
    "        elif x > t:\n",
    "            return 3\n",
    "        elif x < t:\n",
    "            return 0\n",
    "        else:\n",
    "            raise ValueError(\"Impossible case\")\n",
    "    else:\n",
    "        # Here is the reccurence\n",
    "        \n",
    "        # We enumerate all the reachable states\n",
    "        states = enumStatesfrom(x,y,t)\n",
    "        \n",
    "                \n",
    "        #If there is only one issue for the player 1, the profits will be the argmin of all the issues from the player 2\n",
    "        if x == 1: \n",
    "            x,y,t = states[0][0]\n",
    "            mini = G(x,y,t)\n",
    "            for state in states[0]:\n",
    "                x,y,t = state\n",
    "                profits = G(x,y,t)\n",
    "                if  profits < mini:\n",
    "                    mini = profits\n",
    "            return mini\n",
    "        \n",
    "        # If there is more the one issue for the player 1 we try to reduce the number of issues by finding dominated ones\n",
    "        p = []\n",
    "        for x1 in range(len(states)):\n",
    "            p.append(0)\n",
    "            for y in range(len(states[0])):\n",
    "                for x2 in range(len(states)):\n",
    "                    if x1 < x2 :\n",
    "                        p[x1] = 1        \n",
    "\n",
    "        \n",
    "        if len1(p) > -1: \n",
    "            x,y,t = states[len1(p)][0]\n",
    "            mini = G(x,y,t)\n",
    "            for state in states[len1(p)]:\n",
    "                x,y,t = state\n",
    "                profits = G(x,y,t)\n",
    "                if  profits < mini:\n",
    "                    mini = profits\n",
    "            return mini\n",
    "        \n",
    "    \n",
    "                        \n",
    "        # Now we transform the game into Linear Programming problem\n",
    "        \n",
    "        \n",
    "        \n",
    "        # Example of Linear Programming solving using pulp\n",
    "#        prob = LpProblem(\"test1\", LpMinimize) \n",
    "#        # Variables \n",
    "#        x = LpVariable(\"x\", 0, 4) \n",
    "#        y = LpVariable(\"y\", -1, 1) \n",
    "#        z = LpVariable(\"z\", 0) \n",
    "\n",
    "#        # Objective \n",
    "#        prob += x + 4*y + 9*z \n",
    "\n",
    "#        # Constraints \n",
    "#        prob += x+y <= 5 \n",
    "#        prob += x+z >= 10 \n",
    "#        prob += -y+z == 7 \n",
    "\n",
    "#        GLPK().solve(prob) \n",
    "\n",
    "#        # Solution \n",
    "#        for v in prob.variables(): \n",
    "#            print(v.name, \"=\", v.varValue)\n",
    "\n",
    "#        print(\"objective=\", value(prob.objective))\n",
    "        \n",
    "        \n",
    "        \n",
    "        raise NotImplementedError(\"Missing cases on the reccurence\")"
   ]
  },
  {
   "cell_type": "code",
   "execution_count": null,
   "metadata": {},
   "outputs": [],
   "source": []
  },
  {
   "cell_type": "code",
   "execution_count": 14,
   "metadata": {},
   "outputs": [],
   "source": [
    "def enumStatesfrom(n1,n2,t):\n",
    "    Liste = []\n",
    "    for x in range(1, n1+1):\n",
    "        L = []\n",
    "        for y in range(1, n2+1):\n",
    "            if x == y :\n",
    "                L.append((n1-x, n2-y, t))\n",
    "            elif x > y :\n",
    "                L.append((n1-x, n2-y, t+1))\n",
    "            elif x < y :\n",
    "                L.append((n1-x, n2-y, t-1))\n",
    "            else :\n",
    "                raise ValueError(\"Impossible case\")\n",
    "        Liste.append(L)\n",
    "    return Liste"
   ]
  },
  {
   "cell_type": "code",
   "execution_count": 15,
   "metadata": {},
   "outputs": [
    {
     "name": "stdout",
     "output_type": "stream",
     "text": [
      "[[(1, 2, 1), (1, 1, 0), (1, 0, 0)], [(0, 2, 2), (0, 1, 1), (0, 0, 0)]]\n"
     ]
    }
   ],
   "source": [
    "print(enumStatesfrom(2,3,1))"
   ]
  },
  {
   "cell_type": "code",
   "execution_count": 9,
   "metadata": {},
   "outputs": [
    {
     "name": "stdout",
     "output_type": "stream",
     "text": [
      "1\n"
     ]
    }
   ],
   "source": [
    "print(G(1,2,1))"
   ]
  },
  {
   "cell_type": "code",
   "execution_count": 10,
   "metadata": {},
   "outputs": [
    {
     "name": "stdout",
     "output_type": "stream",
     "text": [
      "1\n"
     ]
    }
   ],
   "source": [
    "print(G(2,3,1))"
   ]
  },
  {
   "cell_type": "code",
   "execution_count": null,
   "metadata": {},
   "outputs": [],
   "source": []
  },
  {
   "cell_type": "code",
   "execution_count": null,
   "metadata": {},
   "outputs": [],
   "source": []
  }
 ],
 "metadata": {
  "kernelspec": {
   "display_name": "Python 3",
   "language": "python",
   "name": "python3"
  },
  "language_info": {
   "codemirror_mode": {
    "name": "ipython",
    "version": 3
   },
   "file_extension": ".py",
   "mimetype": "text/x-python",
   "name": "python",
   "nbconvert_exporter": "python",
   "pygments_lexer": "ipython3",
   "version": "3.6.3"
  }
 },
 "nbformat": 4,
 "nbformat_minor": 2
}
